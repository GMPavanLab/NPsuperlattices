{
 "cells": [
  {
   "cell_type": "code",
   "execution_count": null,
   "metadata": {},
   "outputs": [],
   "source": [
    "import os\n",
    "import sys\n",
    "import numpy as np\n",
    "import random\n",
    "from sklearn.decomposition import PCA\n",
    "\n",
    "import seaborn as sns\n",
    "import matplotlib.pyplot as plt\n",
    "%matplotlib inline"
   ]
  },
  {
   "cell_type": "markdown",
   "metadata": {},
   "source": [
    "## Functions Def"
   ]
  },
  {
   "cell_type": "code",
   "execution_count": null,
   "metadata": {},
   "outputs": [],
   "source": [
    "def get_axes(L, max_col=3):\n",
    "    cols = L if L <= max_col else max_col\n",
    "    rows = int(L / max_col) + int(L % max_col != 0)\n",
    "    fig, ax = plt.subplots(rows, cols, figsize=(cols * 5, rows * 4), dpi=100)\n",
    "    ax =  ax.flatten()\n",
    "    return fig, ax\n",
    "\n",
    "def shuffle(X, Y=None, n=None):\n",
    "    l = np.arange(X.shape[0])\n",
    "    random.shuffle(l)\n",
    "    if Y is None:\n",
    "        return X[l[:n],:]\n",
    "    elif Y is None and n is None:\n",
    "        return X[l,:]\n",
    "    elif n is None:\n",
    "        return X[l,:], Y[l]\n",
    "    else: \n",
    "        return X[l[:n],:], Y[l[:n]]\n",
    "    \n",
    "def get_rnd_sample(data, N, ):\n",
    "    return shuffle(data, Y=None, n=int(data.shape[0]/N))\n"
   ]
  },
  {
   "cell_type": "markdown",
   "metadata": {},
   "source": [
    "## File Path and other name variables"
   ]
  },
  {
   "cell_type": "code",
   "execution_count": null,
   "metadata": {},
   "outputs": [],
   "source": [
    "MODE = 'BOTH' # WHOLE or INDIVIDUAL or BOTH method\n",
    "PCA_DIM = 3"
   ]
  },
  {
   "cell_type": "code",
   "execution_count": null,
   "metadata": {},
   "outputs": [],
   "source": [
    "SYS_NAME_DIR = 'ExampleCase-300K-E=0.05/'\n",
    "SUB_DIR = ''\n",
    "SUB_PCA = ''\n",
    "\n",
    "SYS_SOAP_DIR = SYS_NAME_DIR + 'soap_files/' + SUB_DIR\n",
    "\n",
    "if SUB_DIR:\n",
    "    SYS_PCA_DIR = SYS_NAME_DIR + SUB_PCA + SUB_DIR\n",
    "else:\n",
    "    SYS_PCA_DIR = SYS_NAME_DIR + SUB_PCA"
   ]
  },
  {
   "cell_type": "code",
   "execution_count": null,
   "metadata": {},
   "outputs": [],
   "source": [
    "if os.path.exists(SYS_PCA_DIR):\n",
    "    print(f\"Folder already exist!\\n{SYS_PCA_DIR}\")\n",
    "if not os.path.exists(SYS_PCA_DIR):\n",
    "    os.makedirs(SYS_PCA_DIR)\n",
    "    print(f\"Created folder\\n{SYS_PCA_DIR}\")"
   ]
  },
  {
   "cell_type": "code",
   "execution_count": null,
   "metadata": {},
   "outputs": [],
   "source": [
    "FILES = []\n",
    "for entry in os.listdir(SYS_SOAP_DIR):\n",
    "    if os.path.isfile(os.path.join(SYS_SOAP_DIR, entry)):\n",
    "        if entry.endswith('.npy'):\n",
    "            FILES.append(entry)\n",
    "\n",
    "print(SYS_SOAP_DIR)\n",
    "FILES = sorted(FILES)\n",
    "print(f\"SOAP files {len(FILES)}:\\n{FILES}\")"
   ]
  },
  {
   "cell_type": "code",
   "execution_count": null,
   "metadata": {},
   "outputs": [],
   "source": [
    "SOAP_FILES_ = {'sys_'+str(num): np.load(SYS_SOAP_DIR+soap) for num,soap in enumerate(FILES)}\n",
    "SOAP_FILES_.keys()"
   ]
  },
  {
   "cell_type": "code",
   "execution_count": null,
   "metadata": {},
   "outputs": [],
   "source": [
    "for s in SOAP_FILES_:\n",
    "    print(SOAP_FILES_[s].shape)"
   ]
  },
  {
   "cell_type": "code",
   "execution_count": null,
   "metadata": {},
   "outputs": [],
   "source": [
    "SOAP_FILES = dict()\n",
    "for s in SOAP_FILES_:\n",
    "    SOAP_FILES[s] = np.vstack(SOAP_FILES_[s])"
   ]
  },
  {
   "cell_type": "code",
   "execution_count": null,
   "metadata": {},
   "outputs": [],
   "source": [
    "for s in SOAP_FILES:\n",
    "    print(SOAP_FILES[s].shape)"
   ]
  },
  {
   "cell_type": "markdown",
   "metadata": {},
   "source": [
    "## Output"
   ]
  },
  {
   "cell_type": "code",
   "execution_count": null,
   "metadata": {},
   "outputs": [],
   "source": [
    "import datetime\n",
    "import json\n",
    "\n",
    "today = datetime.datetime.now().strftime(\"%b-%d-%Y-%H-%M\")\n",
    "fname_output = f\"pca.output_{today}\"\n",
    "\n",
    "with open(SYS_PCA_DIR+fname_output, 'w') as file:\n",
    "    file.write(\"\\n# -----------------------------\\n\")\n",
    "    file.write(f\"Mode selected: {MODE}\\n\")\n",
    "    file.write(f\"SOAP files dir: {SYS_SOAP_DIR}\\n\")\n",
    "    for n,p in enumerate(SOAP_FILES):\n",
    "        file.write(f\"\\t{p}: {FILES[n]}\\n\")"
   ]
  },
  {
   "cell_type": "markdown",
   "metadata": {},
   "source": [
    "## PCA dim reduction"
   ]
  },
  {
   "cell_type": "code",
   "execution_count": null,
   "metadata": {},
   "outputs": [],
   "source": [
    "if 'WHOLE' in MODE or 'BOTH' in MODE:\n",
    "    \n",
    "    with open(SYS_PCA_DIR+fname_output, 'a') as file:\n",
    "        file.write(\"\\n# -----------------------------\\n\")\n",
    "        file.write(f\"Selected mode: {MODE} (Whole Section)\\n\")\n",
    "\n",
    "        # ----------------------------------------------\n",
    "        # compute the pca dim red on the whole data set\n",
    "        # and then use the model to transfor individuals\n",
    "        ALL_DATA = [get_rnd_sample(SOAP_FILES[soap_data], 2) for soap_data in SOAP_FILES]\n",
    "        ALL_DATA = np.vstack(ALL_DATA)\n",
    "        print(ALL_DATA.shape)\n",
    "        file.write(f\"Whole data set shape: {ALL_DATA.shape}\\n\")\n",
    "\n",
    "        file.write(f\"Fitting PCA model with DIM={PCA_DIM}\\n\")\n",
    "        pca = PCA(PCA_DIM)\n",
    "        ALLPCA = pca.fit_transform(ALL_DATA)\n",
    "\n",
    "        variance = pca.explained_variance_ratio_\n",
    "        var=np.cumsum(np.round(pca.explained_variance_ratio_, decimals=3)*100)\n",
    "        file.write(f\"Whole systems PCA (dim={PCA_DIM}) variance: {var}\\n\")\n",
    "\n",
    "        np.savetxt(SYS_PCA_DIR+'wholesystem.pca', ALLPCA)\n",
    "\n",
    "        # ----------------------------------------------\n",
    "        # plot the result of the whole data set\n",
    "        np.random.shuffle(ALLPCA)   \n",
    "        fig, ax = plt.subplots(figsize=(4, 3), dpi=100)\n",
    "        ax.scatter(ALLPCA[:5000,0], ALLPCA[:5000,1], s=5)\n",
    "        ax.set_title('whole_dataset')\n",
    "        ax.set_xlabel('pca 1')\n",
    "        ax.set_ylabel('pca 2')\n",
    "        gx = ax.get_xlim()\n",
    "        gy = ax.get_ylim()\n",
    "        plt.savefig(SYS_PCA_DIR+\"whole.png\")\n",
    "\n",
    "        # ----------------------------------------------\n",
    "        # storing and saving data\n",
    "        PCA_FILES = {'sys_'+str(num): pca.transform(SOAP_FILES[syspca]) for num,syspca in enumerate(SOAP_FILES)}\n",
    "        file.write(f\"Saving data in \\n{SYS_PCA_DIR}\\n\")\n",
    "        for i,sys in enumerate(PCA_FILES):\n",
    "            np.savetxt(SYS_PCA_DIR+'PCA'+FILES[i][4:-4]+'.pca', PCA_FILES[sys])\n",
    "\n",
    "        # ----------------------------------------------\n",
    "        # plot the results of individuals\n",
    "        L=len(PCA_FILES)\n",
    "        CLRS = sns.color_palette('tab10', L)\n",
    "\n",
    "        if L == 1:\n",
    "        \n",
    "            fig, ax = plt.subplots(1, 1, figsize=(5, 4), dpi=100)\n",
    "            for i,sys in enumerate(PCA_FILES):\n",
    "                ax.scatter(PCA_FILES[sys][:5000,0], PCA_FILES[sys][:5000,1], s=1, color=CLRS[i])\n",
    "                ax.set_title(sys)\n",
    "                ax.set_xlabel('pca 1')\n",
    "                ax.set_ylabel('pca 2')\n",
    "                ax.set_xlim(gx)\n",
    "                ax.set_ylim(gy)\n",
    "            fig.tight_layout()\n",
    "            plt.savefig(SYS_PCA_DIR+\"systemPCA_formwhole.png\")\n",
    "        \n",
    "        else:\n",
    "        \n",
    "            fig, ax = get_axes(L, max_col=L)\n",
    "            for i,sys in enumerate(PCA_FILES):\n",
    "                ax[i].scatter(PCA_FILES[sys][:5000,0], PCA_FILES[sys][:5000,1], s=5, color=CLRS[i])\n",
    "                ax[i].set_title(sys)\n",
    "                ax[i].set_xlabel('pca 1')\n",
    "                ax[i].set_ylabel('pca 2')\n",
    "                ax[i].set_xlim(gx)\n",
    "                ax[i].set_ylim(gy)\n",
    "            fig.tight_layout()\n",
    "            plt.savefig(SYS_PCA_DIR+\"systemPCA_formwhole.png\")\n",
    "        "
   ]
  },
  {
   "cell_type": "code",
   "execution_count": null,
   "metadata": {},
   "outputs": [],
   "source": [
    "if 'INDIVIDUAL' in MODE or 'BOTH' in MODE:\n",
    "    \n",
    "    with open(SYS_PCA_DIR+fname_output, 'a') as file:\n",
    "        file.write(\"\\n# -----------------------------\\n\")\n",
    "        file.write(f\"Selected mode: {MODE} (Individual Section)\\n\")\n",
    "    \n",
    "        # ----------------------------------------------\n",
    "        # compute the PCA dim red on individuals data set\n",
    "        file.write(f\"Fitting PCA model with DIM={PCA_DIM}\\n\")\n",
    "        pca = PCA(PCA_DIM)\n",
    "        PCA_FILES = {'sys_'+str(num): pca.fit_transform(SOAP_FILES[syspca]) for num,syspca in enumerate(SOAP_FILES)}\n",
    "        \n",
    "        # ----------------------------------------------\n",
    "        # storing and saving data\n",
    "        file.write(f\"Saving data in \\n{SYS_PCA_DIR}\")\n",
    "        for i,sys in enumerate(PCA_FILES):\n",
    "            np.savetxt(SYS_PCA_DIR+'PCA'+FILES[i][4:-4]+'_INDIVIDUAL.pca', PCA_FILES[sys])\n",
    "\n",
    "        # ----------------------------------------------\n",
    "        # plot the results of individuals\n",
    "        L=len(PCA_FILES)\n",
    "        CLRS = sns.color_palette('tab10', L)\n",
    "        \n",
    "        if L == 1:\n",
    "        \n",
    "            fig, ax = plt.subplots(1, 1, figsize=(5, 4), dpi=100)\n",
    "            for i,sys in enumerate(PCA_FILES):\n",
    "                ax.scatter(PCA_FILES[sys][:5000,0], PCA_FILES[sys][:5000,1], s=5, color=CLRS[i])\n",
    "                ax.set_title(sys+'_indiv')\n",
    "                ax.set_xlabel('pca 1')\n",
    "                ax.set_ylabel('pca 2')\n",
    "            fig.tight_layout()\n",
    "            plt.savefig(SYS_PCA_DIR+\"systemPCA_individual.png\")\n",
    "        \n",
    "        else:\n",
    "        \n",
    "            fig, ax = get_axes(L, max_col=L)\n",
    "            for i,sys in enumerate(PCA_FILES):\n",
    "                ax[i].scatter(PCA_FILES[sys][:5000,0], PCA_FILES[sys][:5000,1], s=5, color=CLRS[i])\n",
    "                ax[i].set_title(sys+'_indiv')\n",
    "                ax[i].set_xlabel('pca 1')\n",
    "                ax[i].set_ylabel('pca 2')\n",
    "            fig.tight_layout()\n",
    "            plt.savefig(SYS_PCA_DIR+\"systemPCA_individual.png\")\n",
    "        "
   ]
  },
  {
   "cell_type": "code",
   "execution_count": null,
   "metadata": {},
   "outputs": [],
   "source": []
  },
  {
   "cell_type": "code",
   "execution_count": null,
   "metadata": {},
   "outputs": [],
   "source": []
  }
 ],
 "metadata": {
  "kernelspec": {
   "display_name": "Python 3 (ipykernel)",
   "language": "python",
   "name": "python3"
  },
  "language_info": {
   "codemirror_mode": {
    "name": "ipython",
    "version": 3
   },
   "file_extension": ".py",
   "mimetype": "text/x-python",
   "name": "python",
   "nbconvert_exporter": "python",
   "pygments_lexer": "ipython3",
   "version": "3.10.4"
  }
 },
 "nbformat": 4,
 "nbformat_minor": 4
}
