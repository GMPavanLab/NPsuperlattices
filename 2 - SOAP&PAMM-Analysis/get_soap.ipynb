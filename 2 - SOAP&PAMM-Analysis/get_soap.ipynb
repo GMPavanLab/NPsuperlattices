{
 "cells": [
  {
   "cell_type": "code",
   "execution_count": null,
   "metadata": {},
   "outputs": [],
   "source": [
    "import os\n",
    "import time\n",
    "import numpy as np\n",
    "from ase.io import read\n",
    "from dscribe.descriptors import SOAP"
   ]
  },
  {
   "cell_type": "code",
   "execution_count": null,
   "metadata": {},
   "outputs": [],
   "source": [
    "import ase\n",
    "ase.__version__"
   ]
  },
  {
   "cell_type": "markdown",
   "metadata": {},
   "source": [
    "## System of interest name"
   ]
  },
  {
   "cell_type": "code",
   "execution_count": null,
   "metadata": {},
   "outputs": [],
   "source": [
    "SYS_NAME_DIR = 'ExampleCase-300K-E=0.05/' \n",
    "SUB_DIR = ''\n",
    "if SUB_DIR:\n",
    "    SYS_TRAJ_DIR = SYS_NAME_DIR+'traj_reduced/'+SUB_DIR\n",
    "else:\n",
    "    SYS_TRAJ_DIR = SYS_NAME_DIR+'traj_reduced/'"
   ]
  },
  {
   "cell_type": "markdown",
   "metadata": {},
   "source": [
    "## Reading trajectories files"
   ]
  },
  {
   "cell_type": "markdown",
   "metadata": {},
   "source": [
    "* #### traj reading parameters\n",
    "The range goes from `START` to `END - 1`, it is not inclusive!"
   ]
  },
  {
   "cell_type": "code",
   "execution_count": null,
   "metadata": {},
   "outputs": [],
   "source": [
    "traj_reading_prmters = dict(START=0,\n",
    "                            END=20000,\n",
    "                            STRIDE=50)\n",
    "print(traj_reading_prmters)"
   ]
  },
  {
   "cell_type": "markdown",
   "metadata": {},
   "source": [
    "* #### read and store traj files (and box if present)"
   ]
  },
  {
   "cell_type": "code",
   "execution_count": null,
   "metadata": {
    "scrolled": true
   },
   "outputs": [],
   "source": [
    "XYZ_TRAJ = []\n",
    "BOX = []\n",
    "for entry in os.listdir(SYS_TRAJ_DIR):\n",
    "    if os.path.isfile(os.path.join(SYS_TRAJ_DIR, entry)):\n",
    "        if entry.endswith('.xyz'):\n",
    "            XYZ_TRAJ.append(entry)\n",
    "        elif entry.endswith('.box'):\n",
    "            BOX.append(entry)\n",
    "            \n",
    "XYZ_TRAJ = sorted(XYZ_TRAJ)\n",
    "BOX = sorted(BOX)\n",
    "\n",
    "print(f\"Traj files {len(XYZ_TRAJ)}:\\n{XYZ_TRAJ}\")\n",
    "print(f\"\\nBox files (for pbc) {len(BOX)}:\\n{BOX}\")"
   ]
  },
  {
   "cell_type": "markdown",
   "metadata": {},
   "source": [
    "* #### traj reader\n",
    "\n",
    "    - `traj` is already cropped following `START,END,STRIDE`\n",
    "    - `boxfile` it is not cropped and need to be matched\n",
    "\n",
    "The code does the corrections, but care is advised anyway!"
   ]
  },
  {
   "cell_type": "code",
   "execution_count": null,
   "metadata": {},
   "outputs": [],
   "source": [
    "def traj_reader(wdir,trajfile,**kwargs):\n",
    "    print(f\"--- Reading {trajfile}\")\n",
    "    \n",
    "    # traj reading parameters\n",
    "    INDEX=':'\n",
    "    START=kwargs['START']\n",
    "    END=kwargs['END']\n",
    "    STRIDE=kwargs['STRIDE']\n",
    "    \n",
    "    if END is not None:\n",
    "        INDEX = f\"{START}:{END}:{STRIDE}\"\n",
    "\n",
    "    return read(wdir+trajfile,index=INDEX,format=\"xyz\")\n",
    "\n",
    "# add pbc correction\n",
    "\n",
    "def traj_pbc(wdir,traj,boxfile,**kwargs):\n",
    "    print(f\"--- Applying PBC {boxfile}\\n\")\n",
    "\n",
    "    START=kwargs['START']\n",
    "    END=kwargs['END']\n",
    "    STRIDE=kwargs['STRIDE']\n",
    "    \n",
    "    boxfile_ = np.loadtxt(wdir+boxfile)\n",
    "\n",
    "# ts range goes from 0 - to the len(traj) - dummy indexing\n",
    "    for ts in range(int((END-START)/STRIDE)):\n",
    "        # the boxfile item selected is accordi to the real indexing\n",
    "        traj[ts].set_cell(boxfile_[START+ts*STRIDE])\n",
    "        traj[ts].set_pbc([1, 1, 1])\n",
    "    return traj\n",
    "\n",
    "def get_multipos(pos,**kwargs):\n",
    "    START=kwargs['START']\n",
    "    END=kwargs['END']\n",
    "    STRIDE=kwargs['STRIDE']\n",
    "    return [POS for x in range(int((END-START)/STRIDE))]\n",
    "\n",
    "def get_soap_descriptor(**kwargs):\n",
    "    return SOAP(**kwargs)"
   ]
  },
  {
   "cell_type": "code",
   "execution_count": null,
   "metadata": {},
   "outputs": [],
   "source": [
    "t0 = time.time()\n",
    "ASE_TRAJ = {'syst_'+str(num): traj_reader(SYS_TRAJ_DIR,traj,**traj_reading_prmters) for num, traj in enumerate(XYZ_TRAJ)}\n",
    "t1 = time.time()\n",
    "print(f\"-->\\tTIME= {np.round(t1-t0, 2)} s \\n\")"
   ]
  },
  {
   "cell_type": "code",
   "execution_count": null,
   "metadata": {},
   "outputs": [],
   "source": [
    "if all([BOX]):\n",
    "\n",
    "    for j,pbc in enumerate(ASE_TRAJ):\n",
    "        print(f\"Updating traj {pbc} = {XYZ_TRAJ[j]}\")\n",
    "        ASE_TRAJ[pbc] = traj_pbc(SYS_TRAJ_DIR,ASE_TRAJ[pbc],BOX[j],**traj_reading_prmters)\n",
    "    \n",
    "if not all([BOX]):\n",
    "    print(\"No PBC correction provided for the system\")"
   ]
  },
  {
   "cell_type": "code",
   "execution_count": null,
   "metadata": {},
   "outputs": [],
   "source": [
    "ASE_TRAJ"
   ]
  },
  {
   "cell_type": "markdown",
   "metadata": {},
   "source": [
    "## SOAP descriptor calculation"
   ]
  },
  {
   "cell_type": "markdown",
   "metadata": {},
   "source": [
    "* #### SOAP parameters and modes"
   ]
  },
  {
   "cell_type": "code",
   "execution_count": null,
   "metadata": {},
   "outputs": [],
   "source": [
    "SOAP_MODE = 'SINGLE' # MULTI or SINGLE\n",
    "SOAP_AVE = False\n",
    "\n",
    "# POS = [p for p in range(1,4608,4)]\n",
    "\n",
    "soap_input_parameters = dict(species = [\"N\"],\n",
    "                             periodic = False,\n",
    "                             rcut = 65,\n",
    "                             nmax = 8,\n",
    "                             lmax = 8,\n",
    "                             average = 'off')\n",
    "if all([BOX]):\n",
    "    soap_input_parameters.update(periodic = True)\n",
    "\n",
    "if SOAP_AVE:\n",
    "    soap_input_parameters.update(average = 'inner')\n",
    "    \n",
    "print(soap_input_parameters)\n",
    "\n",
    "if SOAP_MODE == 'MULTI':\n",
    "    MULTI_SOAP = get_multipos(POS,**traj_reading_prmters)\n",
    "    print(\"'MULTI' option ON\")"
   ]
  },
  {
   "cell_type": "markdown",
   "metadata": {},
   "source": [
    "* #### create the soap dir for storing the files if its not already there"
   ]
  },
  {
   "cell_type": "code",
   "execution_count": null,
   "metadata": {},
   "outputs": [],
   "source": [
    "if SUB_DIR:\n",
    "    SOAP_DIR = SYS_NAME_DIR+'soap_files/'+SUB_DIR+'rcut'+str(soap_input_parameters['rcut'])+'/'\n",
    "else:\n",
    "    SOAP_DIR = SYS_NAME_DIR+'soap_files/rcut'+str(soap_input_parameters['rcut'])+'/'\n",
    "    \n",
    "if os.path.exists(SOAP_DIR):\n",
    "    print(f\"Folder already exist!\\n{SOAP_DIR}\")\n",
    "if not os.path.exists(SOAP_DIR):\n",
    "    os.makedirs(SOAP_DIR)\n",
    "    print(f\"Created folder\\n{SOAP_DIR}\")"
   ]
  },
  {
   "cell_type": "markdown",
   "metadata": {},
   "source": [
    "* #### output init"
   ]
  },
  {
   "cell_type": "code",
   "execution_count": null,
   "metadata": {},
   "outputs": [],
   "source": [
    "import datetime\n",
    "import json\n",
    "\n",
    "today = datetime.datetime.now().strftime(\"%b-%d-%Y-%H-%M\")\n",
    "fname_output = f\"soap.output_{today}\"\n",
    "\n",
    "with open(SOAP_DIR+fname_output, 'w') as file:\n",
    "    file.write(\"Traj reading values:\\n\")\n",
    "    file.write(json.dumps(traj_reading_prmters))\n",
    "    file.write(\"\\nSOAP parameters:\\n\")\n",
    "    file.write(json.dumps(soap_input_parameters))\n",
    "    file.write(\"\\n\")\n",
    "    file.write(f\"\\n SOAP MODE: {SOAP_MODE}\")"
   ]
  },
  {
   "cell_type": "markdown",
   "metadata": {},
   "source": [
    "* #### SOAP calculations following instructions"
   ]
  },
  {
   "cell_type": "code",
   "execution_count": null,
   "metadata": {},
   "outputs": [],
   "source": [
    "dscr_soap = get_soap_descriptor(**soap_input_parameters)\n",
    "\n",
    "for i,soap in enumerate(ASE_TRAJ):\n",
    "    print(f\"Calc for {soap} : {XYZ_TRAJ[i]}\")\n",
    "    with open(SOAP_DIR+fname_output, 'a') as file:\n",
    "        file.write(f\"\\nCalc for {soap} : {XYZ_TRAJ[i]}\\n\")\n",
    "    \n",
    "    if SOAP_MODE == 'MULTI':\n",
    "        print(\"!Multi position calculation\")\n",
    "        t0 = time.time()\n",
    "        soap_tmp = dscr_soap.create(ASE_TRAJ[soap], positions=MULTI_SOAP)\n",
    "        t1 = time.time()\n",
    "        \n",
    "    elif SOAP_MODE == 'SINGLE':\n",
    "        print(\"!Single position calculation\")\n",
    "        t0 = time.time()\n",
    "        soap_tmp = dscr_soap.create(ASE_TRAJ[soap])\n",
    "        t1 = time.time()\n",
    "        \n",
    "    print(f\"-->\\tTIME= {np.round(t1-t0, 2)} s \\n\")\n",
    "    with open(SOAP_DIR+fname_output, 'a') as file:\n",
    "        file.write(f\"-->\\tTIME= {np.round(t1-t0, 2)} s \\n\")\n",
    "    \n",
    "    if SOAP_AVE:\n",
    "        np.save(SOAP_DIR+f\"SOAP_AVE_{XYZ_TRAJ[i][:-4]}_rcut{soap_input_parameters['rcut']}_trj{traj_reading_prmters['START']}-{traj_reading_prmters['END']}-{traj_reading_prmters['STRIDE']}\",\n",
    "               soap_tmp)\n",
    "    else:\n",
    "        np.save(SOAP_DIR+f\"SOAP_{XYZ_TRAJ[i][:-4]}_rcut{soap_input_parameters['rcut']}_trj{traj_reading_prmters['START']}-{traj_reading_prmters['END']}-{traj_reading_prmters['STRIDE']}\",\n",
    "               soap_tmp)"
   ]
  },
  {
   "cell_type": "code",
   "execution_count": null,
   "metadata": {},
   "outputs": [],
   "source": []
  },
  {
   "cell_type": "code",
   "execution_count": null,
   "metadata": {},
   "outputs": [],
   "source": []
  }
 ],
 "metadata": {
  "kernelspec": {
   "display_name": "Python 3 (ipykernel)",
   "language": "python",
   "name": "python3"
  },
  "language_info": {
   "codemirror_mode": {
    "name": "ipython",
    "version": 3
   },
   "file_extension": ".py",
   "mimetype": "text/x-python",
   "name": "python",
   "nbconvert_exporter": "python",
   "pygments_lexer": "ipython3",
   "version": "3.10.4"
  }
 },
 "nbformat": 4,
 "nbformat_minor": 4
}
